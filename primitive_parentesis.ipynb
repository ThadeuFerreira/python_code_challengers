{
 "cells": [
  {
   "cell_type": "code",
   "execution_count": 30,
   "metadata": {},
   "outputs": [],
   "source": [
    "class Solution:\n",
    "    def removeOuterParentheses(self, s: str) -> str:\n",
    "        count_r = 0\n",
    "        count_l = 0\n",
    "        start_position = 0\n",
    "        is_open = True\n",
    "        positions_to_remove = []\n",
    "        for i in range(len(s)):\n",
    "            if s[i] == '(':\n",
    "                count_r += 1\n",
    "                if is_open:\n",
    "                    start_position = i\n",
    "                    is_open = False\n",
    "            if s[i] == ')':\n",
    "                count_l += 1\n",
    "            if count_l == count_r:\n",
    "                positions_to_remove.append(start_position)\n",
    "                positions_to_remove.append(i)\n",
    "                is_open = True\n",
    "        return_string = ''\n",
    "        for i in range(len(s)):\n",
    "            if i not in positions_to_remove:\n",
    "                return_string += s[i]\n",
    "\n",
    "        return return_string"
   ]
  },
  {
   "cell_type": "code",
   "execution_count": 31,
   "metadata": {},
   "outputs": [],
   "source": [
    "s = Solution()\n"
   ]
  },
  {
   "cell_type": "code",
   "execution_count": 32,
   "metadata": {},
   "outputs": [
    {
     "data": {
      "text/plain": [
       "'()()'"
      ]
     },
     "execution_count": 32,
     "metadata": {},
     "output_type": "execute_result"
    }
   ],
   "source": [
    "s.removeOuterParentheses('(()())')"
   ]
  },
  {
   "cell_type": "code",
   "execution_count": 33,
   "metadata": {},
   "outputs": [
    {
     "data": {
      "text/plain": [
       "''"
      ]
     },
     "execution_count": 33,
     "metadata": {},
     "output_type": "execute_result"
    }
   ],
   "source": [
    "s.removeOuterParentheses('()()')"
   ]
  },
  {
   "cell_type": "code",
   "execution_count": 34,
   "metadata": {},
   "outputs": [
    {
     "data": {
      "text/plain": [
       "'()()()'"
      ]
     },
     "execution_count": 34,
     "metadata": {},
     "output_type": "execute_result"
    }
   ],
   "source": [
    "s.removeOuterParentheses('(()())(())')"
   ]
  },
  {
   "cell_type": "code",
   "execution_count": 35,
   "metadata": {},
   "outputs": [
    {
     "name": "stdout",
     "output_type": "stream",
     "text": [
      "Yes\n"
     ]
    }
   ],
   "source": [
    "l = [0,2,3]\n",
    "\n",
    "if 3 in l:\n",
    "    print('Yes')"
   ]
  },
  {
   "cell_type": "code",
   "execution_count": null,
   "metadata": {},
   "outputs": [],
   "source": [
    "import pandas as pd\n",
    "\n",
    "df = pd.read_csv('data/data.csv')"
   ]
  }
 ],
 "metadata": {
  "interpreter": {
   "hash": "dfb2d7325d7927e1ef5a42e38e3862dbab31c1bac674e26f960e6bc5e4bd9493"
  },
  "kernelspec": {
   "display_name": "Python 3.8.12 ('pytorch')",
   "language": "python",
   "name": "python3"
  },
  "language_info": {
   "codemirror_mode": {
    "name": "ipython",
    "version": 3
   },
   "file_extension": ".py",
   "mimetype": "text/x-python",
   "name": "python",
   "nbconvert_exporter": "python",
   "pygments_lexer": "ipython3",
   "version": "3.8.12"
  },
  "orig_nbformat": 4
 },
 "nbformat": 4,
 "nbformat_minor": 2
}
